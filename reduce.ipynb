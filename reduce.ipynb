{
  "nbformat": 4,
  "nbformat_minor": 0,
  "metadata": {
    "colab": {
      "provenance": [],
      "gpuType": "T4"
    },
    "kernelspec": {
      "name": "python3",
      "display_name": "Python 3"
    },
    "language_info": {
      "name": "python"
    },
    "accelerator": "GPU"
  },
  "cells": [
    {
      "cell_type": "code",
      "source": [
        "import tensorflow as tf\n",
        "from tensorflow.keras import layers, models\n",
        "import numpy as np\n",
        "import pandas as pd\n",
        "from matplotlib import pyplot as plt\n",
        "from sklearn.model_selection import train_test_split\n",
        "from tensorflow.keras.callbacks import ModelCheckpoint, EarlyStopping\n",
        "\n",
        "print(\"Tensorflow version \" + tf.__version__)"
      ],
      "metadata": {
        "colab": {
          "base_uri": "https://localhost:8080/"
        },
        "id": "WSO6DypIYpPf",
        "outputId": "65020699-6821-469d-b817-6835f717ba4c"
      },
      "execution_count": 1,
      "outputs": [
        {
          "output_type": "stream",
          "name": "stdout",
          "text": [
            "Tensorflow version 2.15.0\n"
          ]
        }
      ]
    },
    {
      "cell_type": "code",
      "source": [
        "# MNIST Data Loading and Preprocessing\n",
        "def load_preprocess_mnist():\n",
        "    mnist = tf.keras.datasets.mnist\n",
        "    (x_train, y_train), (x_test, y_test) = mnist.load_data()\n",
        "\n",
        "    # Normalizing the data - scale pixel values to range 0 to 1\n",
        "    x_train = x_train.astype('float32') / 255.\n",
        "    x_test = x_test.astype('float32') / 255.\n",
        "\n",
        "    # Reshaping data to include channel dimension\n",
        "    x_train = np.reshape(x_train, (-1, 28, 28, 1))\n",
        "    x_test = np.reshape(x_test, (-1, 28, 28, 1))\n",
        "\n",
        "    return x_train, x_test\n",
        "\n",
        "x_train, x_test = load_preprocess_mnist()\n"
      ],
      "metadata": {
        "colab": {
          "base_uri": "https://localhost:8080/"
        },
        "id": "HOmhzZw8Zefz",
        "outputId": "abec7d5a-1d44-44af-a99d-8a3c7ebdf2ca"
      },
      "execution_count": 2,
      "outputs": [
        {
          "output_type": "stream",
          "name": "stdout",
          "text": [
            "Downloading data from https://storage.googleapis.com/tensorflow/tf-keras-datasets/mnist.npz\n",
            "11490434/11490434 [==============================] - 1s 0us/step\n"
          ]
        }
      ]
    },
    {
      "cell_type": "code",
      "source": [
        "from keras import layers\n",
        "from keras import backend as K\n",
        "# from tensorflow.keras.models import Model\n",
        "from sklearn.model_selection import train_test_split"
      ],
      "metadata": {
        "id": "z_f_47T4et3C"
      },
      "execution_count": 3,
      "outputs": []
    },
    {
      "cell_type": "code",
      "source": [
        "def build_convolutional_autoencoder():\n",
        "    tf.keras.backend.clear_session()\n",
        "    print(\"Building a convolutional autoencoder model...\")\n",
        "\n",
        "    # Creating a Sequential model\n",
        "    model = tf.keras.models.Sequential()\n",
        "\n",
        "    # Encoder\n",
        "    model.add(layers.Input(shape=(28, 28, 1)))\n",
        "    model.add(layers.Conv2D(32, (3, 3), activation='relu', padding='same', strides=2))\n",
        "    model.add(layers.Conv2D(64, (3, 3), activation='relu', padding='same', strides=2))\n",
        "    model.add(layers.Conv2D(128, (3, 3), activation='relu', padding='same', strides=3))\n",
        "    model.add(layers.Flatten())\n",
        "\n",
        "    # Bottleneck Layer\n",
        "    model.add(layers.Dense(10, activation='relu'))\n",
        "\n",
        "    # Decoder\n",
        "    model.add(layers.Dense(1152, activation='relu'))\n",
        "    model.add(layers.Reshape((3, 3, 128)))\n",
        "    model.add(layers.Conv2DTranspose(64, kernel_size=3, strides=2, activation='relu'))\n",
        "    model.add(layers.Conv2DTranspose(32, kernel_size=3, strides=2, activation='relu',padding='same'))\n",
        "    model.add(layers.Conv2DTranspose(1, kernel_size=3, strides=2, activation='sigmoid', padding='same'))\n",
        "\n",
        "    return model\n",
        "\n"
      ],
      "metadata": {
        "id": "R32tYVO6fUiA"
      },
      "execution_count": 4,
      "outputs": []
    },
    {
      "cell_type": "code",
      "source": [
        "def train_autoencoder(model, x_train, x_test):\n",
        "    print(\"Beginning the training process...\")\n",
        "\n",
        "    # Splitting the training data for validation\n",
        "    x_train, x_val = train_test_split(x_train, test_size=0.33, random_state=42)\n",
        "\n",
        "    # Model compilation\n",
        "    model.compile(optimizer='adam', loss='mse', metrics=['accuracy'])\n",
        "\n",
        "    # Callbacks\n",
        "    checkpoint_cb = ModelCheckpoint(\"autoencoder_model.keras\", save_best_only=True)\n",
        "    early_stopping_cb = EarlyStopping(patience=10, restore_best_weights=True)\n",
        "\n",
        "    # Model training\n",
        "    history = model.fit(x_train, x_train, epochs=25, batch_size=128,\n",
        "                        validation_data=(x_val, x_val),\n",
        "                        callbacks=[checkpoint_cb, early_stopping_cb])\n",
        "\n",
        "    return history\n",
        "\n"
      ],
      "metadata": {
        "id": "jhznxvOqjALL"
      },
      "execution_count": 5,
      "outputs": []
    },
    {
      "cell_type": "code",
      "source": [
        "autoencoder_model = build_convolutional_autoencoder()\n",
        "autoencoder_model.summary()\n",
        "len(autoencoder_model.layers)\n",
        "\n"
      ],
      "metadata": {
        "colab": {
          "base_uri": "https://localhost:8080/"
        },
        "id": "MthzTjMxjGoe",
        "outputId": "1effb154-793b-40d9-fc1c-a64f691847ac"
      },
      "execution_count": 6,
      "outputs": [
        {
          "output_type": "stream",
          "name": "stdout",
          "text": [
            "Building a convolutional autoencoder model...\n",
            "Model: \"sequential\"\n",
            "_________________________________________________________________\n",
            " Layer (type)                Output Shape              Param #   \n",
            "=================================================================\n",
            " conv2d (Conv2D)             (None, 14, 14, 32)        320       \n",
            "                                                                 \n",
            " conv2d_1 (Conv2D)           (None, 7, 7, 64)          18496     \n",
            "                                                                 \n",
            " conv2d_2 (Conv2D)           (None, 3, 3, 128)         73856     \n",
            "                                                                 \n",
            " flatten (Flatten)           (None, 1152)              0         \n",
            "                                                                 \n",
            " dense (Dense)               (None, 10)                11530     \n",
            "                                                                 \n",
            " dense_1 (Dense)             (None, 1152)              12672     \n",
            "                                                                 \n",
            " reshape (Reshape)           (None, 3, 3, 128)         0         \n",
            "                                                                 \n",
            " conv2d_transpose (Conv2DTr  (None, 7, 7, 64)          73792     \n",
            " anspose)                                                        \n",
            "                                                                 \n",
            " conv2d_transpose_1 (Conv2D  (None, 14, 14, 32)        18464     \n",
            " Transpose)                                                      \n",
            "                                                                 \n",
            " conv2d_transpose_2 (Conv2D  (None, 28, 28, 1)         289       \n",
            " Transpose)                                                      \n",
            "                                                                 \n",
            "=================================================================\n",
            "Total params: 209419 (818.04 KB)\n",
            "Trainable params: 209419 (818.04 KB)\n",
            "Non-trainable params: 0 (0.00 Byte)\n",
            "_________________________________________________________________\n"
          ]
        },
        {
          "output_type": "execute_result",
          "data": {
            "text/plain": [
              "10"
            ]
          },
          "metadata": {},
          "execution_count": 6
        }
      ]
    },
    {
      "cell_type": "code",
      "source": [
        "history = train_autoencoder(autoencoder_model, x_train, x_test)\n"
      ],
      "metadata": {
        "colab": {
          "base_uri": "https://localhost:8080/"
        },
        "id": "0GoXVrB8kP0h",
        "outputId": "2860d302-9970-4b44-d86c-f4fb157ef83f"
      },
      "execution_count": 7,
      "outputs": [
        {
          "output_type": "stream",
          "name": "stdout",
          "text": [
            "Beginning the training process...\n",
            "Epoch 1/25\n",
            "315/315 [==============================] - 10s 11ms/step - loss: 0.0851 - accuracy: 0.8003 - val_loss: 0.0395 - val_accuracy: 0.8032\n",
            "Epoch 2/25\n",
            "315/315 [==============================] - 2s 8ms/step - loss: 0.0298 - accuracy: 0.8030 - val_loss: 0.0261 - val_accuracy: 0.8047\n",
            "Epoch 3/25\n",
            "315/315 [==============================] - 3s 10ms/step - loss: 0.0246 - accuracy: 0.8061 - val_loss: 0.0241 - val_accuracy: 0.8068\n",
            "Epoch 4/25\n",
            "315/315 [==============================] - 3s 8ms/step - loss: 0.0228 - accuracy: 0.8071 - val_loss: 0.0226 - val_accuracy: 0.8068\n",
            "Epoch 5/25\n",
            "315/315 [==============================] - 2s 7ms/step - loss: 0.0217 - accuracy: 0.8077 - val_loss: 0.0221 - val_accuracy: 0.8086\n",
            "Epoch 6/25\n",
            "315/315 [==============================] - 2s 8ms/step - loss: 0.0208 - accuracy: 0.8083 - val_loss: 0.0209 - val_accuracy: 0.8084\n",
            "Epoch 7/25\n",
            "315/315 [==============================] - 2s 7ms/step - loss: 0.0200 - accuracy: 0.8088 - val_loss: 0.0202 - val_accuracy: 0.8084\n",
            "Epoch 8/25\n",
            "315/315 [==============================] - 3s 10ms/step - loss: 0.0194 - accuracy: 0.8092 - val_loss: 0.0197 - val_accuracy: 0.8098\n",
            "Epoch 9/25\n",
            "315/315 [==============================] - 3s 9ms/step - loss: 0.0188 - accuracy: 0.8095 - val_loss: 0.0195 - val_accuracy: 0.8101\n",
            "Epoch 10/25\n",
            "315/315 [==============================] - 2s 7ms/step - loss: 0.0184 - accuracy: 0.8098 - val_loss: 0.0188 - val_accuracy: 0.8103\n",
            "Epoch 11/25\n",
            "315/315 [==============================] - 2s 7ms/step - loss: 0.0180 - accuracy: 0.8100 - val_loss: 0.0194 - val_accuracy: 0.8080\n",
            "Epoch 12/25\n",
            "315/315 [==============================] - 3s 8ms/step - loss: 0.0177 - accuracy: 0.8102 - val_loss: 0.0186 - val_accuracy: 0.8102\n",
            "Epoch 13/25\n",
            "315/315 [==============================] - 4s 14ms/step - loss: 0.0174 - accuracy: 0.8104 - val_loss: 0.0182 - val_accuracy: 0.8110\n",
            "Epoch 14/25\n",
            "315/315 [==============================] - 3s 8ms/step - loss: 0.0171 - accuracy: 0.8105 - val_loss: 0.0173 - val_accuracy: 0.8105\n",
            "Epoch 15/25\n",
            "315/315 [==============================] - 3s 8ms/step - loss: 0.0169 - accuracy: 0.8107 - val_loss: 0.0174 - val_accuracy: 0.8109\n",
            "Epoch 16/25\n",
            "315/315 [==============================] - 3s 8ms/step - loss: 0.0166 - accuracy: 0.8108 - val_loss: 0.0172 - val_accuracy: 0.8110\n",
            "Epoch 17/25\n",
            "315/315 [==============================] - 2s 8ms/step - loss: 0.0164 - accuracy: 0.8109 - val_loss: 0.0173 - val_accuracy: 0.8107\n",
            "Epoch 18/25\n",
            "315/315 [==============================] - 3s 10ms/step - loss: 0.0163 - accuracy: 0.8110 - val_loss: 0.0171 - val_accuracy: 0.8107\n",
            "Epoch 19/25\n",
            "315/315 [==============================] - 3s 8ms/step - loss: 0.0161 - accuracy: 0.8111 - val_loss: 0.0167 - val_accuracy: 0.8106\n",
            "Epoch 20/25\n",
            "315/315 [==============================] - 3s 8ms/step - loss: 0.0160 - accuracy: 0.8112 - val_loss: 0.0164 - val_accuracy: 0.8110\n",
            "Epoch 21/25\n",
            "315/315 [==============================] - 3s 8ms/step - loss: 0.0158 - accuracy: 0.8112 - val_loss: 0.0172 - val_accuracy: 0.8111\n",
            "Epoch 22/25\n",
            "315/315 [==============================] - 3s 8ms/step - loss: 0.0157 - accuracy: 0.8113 - val_loss: 0.0163 - val_accuracy: 0.8108\n",
            "Epoch 23/25\n",
            "315/315 [==============================] - 3s 10ms/step - loss: 0.0155 - accuracy: 0.8114 - val_loss: 0.0163 - val_accuracy: 0.8110\n",
            "Epoch 24/25\n",
            "315/315 [==============================] - 2s 8ms/step - loss: 0.0154 - accuracy: 0.8114 - val_loss: 0.0162 - val_accuracy: 0.8115\n",
            "Epoch 25/25\n",
            "315/315 [==============================] - 2s 7ms/step - loss: 0.0153 - accuracy: 0.8115 - val_loss: 0.0160 - val_accuracy: 0.8116\n"
          ]
        }
      ]
    },
    {
      "cell_type": "code",
      "source": [
        "plt.figure()\n",
        "plt.plot(history.history['loss'], label='Training Loss')\n",
        "plt.plot(history.history['val_loss'], label='Validation Loss')\n",
        "plt.title('Training and Validation Loss')\n",
        "plt.legend()\n",
        "plt.show()\n"
      ],
      "metadata": {
        "colab": {
          "base_uri": "https://localhost:8080/",
          "height": 452
        },
        "id": "nl-WnqZ5tC-n",
        "outputId": "664d54e1-fd25-4ed2-e465-4915856d7355"
      },
      "execution_count": 8,
      "outputs": [
        {
          "output_type": "display_data",
          "data": {
            "text/plain": [
              "<Figure size 640x480 with 1 Axes>"
            ],
            "image/png": "[encoded data removed]"
          },
          "metadata": {}
        }
      ]
    },
    {
      "cell_type": "code",
      "source": [
        "# Extract the encoder from the autoencoder model\n",
        "encoder = tf.keras.models.Sequential()\n",
        "encoder.add(layers.Input(shape=(28, 28, 1)))\n",
        "# Add layers up to the bottleneck (half of the autoencoder layers)\n",
        "for i in range(0, len(autoencoder_model.layers)//2):\n",
        "    encoder.add(autoencoder_model.layers[i])\n",
        "\n",
        "# Load the MNIST dataset\n",
        "train_images,test_images = load_preprocess_mnist()\n",
        "\n",
        "# The train_images and test_images are now preprocessed and ready to be used\n",
        "encoded_train_images = encoder.predict(train_images)\n",
        "encoded_test_images = encoder.predict(test_images)\n",
        "\n",
        "# Print the encoder model summary and the range of values in the encoded images\n",
        "print(encoder.summary())\n",
        "print(\"Max value in encoded test images:\", encoded_test_images.max())\n",
        "print(\"Max value in encoded train images:\", encoded_train_images.max())\n"
      ],
      "metadata": {
        "colab": {
          "base_uri": "https://localhost:8080/"
        },
        "id": "iGYiw7DxvfVQ",
        "outputId": "93010ad2-8c65-4915-9299-2e3c6773b62b"
      },
      "execution_count": 9,
      "outputs": [
        {
          "output_type": "stream",
          "name": "stdout",
          "text": [
            "1875/1875 [==============================] - 6s 3ms/step\n",
            "313/313 [==============================] - 1s 2ms/step\n",
            "Model: \"sequential_1\"\n",
            "_________________________________________________________________\n",
            " Layer (type)                Output Shape              Param #   \n",
            "=================================================================\n",
            " conv2d (Conv2D)             (None, 14, 14, 32)        320       \n",
            "                                                                 \n",
            " conv2d_1 (Conv2D)           (None, 7, 7, 64)          18496     \n",
            "                                                                 \n",
            " conv2d_2 (Conv2D)           (None, 3, 3, 128)         73856     \n",
            "                                                                 \n",
            " flatten (Flatten)           (None, 1152)              0         \n",
            "                                                                 \n",
            " dense (Dense)               (None, 10)                11530     \n",
            "                                                                 \n",
            "=================================================================\n",
            "Total params: 104202 (407.04 KB)\n",
            "Trainable params: 104202 (407.04 KB)\n",
            "Non-trainable params: 0 (0.00 Byte)\n",
            "_________________________________________________________________\n",
            "None\n",
            "Max value in encoded test images: 44.68958\n",
            "Max value in encoded train images: 45.688717\n"
          ]
        }
      ]
    },
    {
      "cell_type": "code",
      "source": [
        "# Function to normalize images\n",
        "def normalize_images(images, epsilon=1e-7):\n",
        "    normalized_images = []\n",
        "    for img in images:\n",
        "        # Calculate the range of the image (peak-to-peak)\n",
        "        img_range = np.ptp(img)\n",
        "\n",
        "        # Avoid division by zero by adding a small value (epsilon)\n",
        "        norm_img = ((img - np.min(img)) / (img_range + epsilon)) * 255\n",
        "\n",
        "        # Append the normalized image\n",
        "        normalized_images.append(norm_img.astype(np.float32))\n",
        "\n",
        "    return np.asarray(normalized_images)\n",
        "\n",
        "normalized_dataset = normalize_images(encoded_train_images)\n",
        "normalized_query = normalize_images(encoded_test_images)\n",
        "\n"
      ],
      "metadata": {
        "id": "XOQH5Bu1ydq9"
      },
      "execution_count": 10,
      "outputs": []
    },
    {
      "cell_type": "code",
      "source": [
        "#Here remains to write the set of normalized image data to a binary file"
      ],
      "metadata": {
        "id": "aPdlzePfDvZS"
      },
      "execution_count": null,
      "outputs": []
    },
    {
      "cell_type": "code",
      "source": [
        "from google.colab import drive\n",
        "drive.mount('/content/drive')\n"
      ],
      "metadata": {
        "colab": {
          "base_uri": "https://localhost:8080/"
        },
        "id": "m4gESS8SgwfV",
        "outputId": "97b754de-5207-4a0c-e86e-074ce9201319"
      },
      "execution_count": 11,
      "outputs": [
        {
          "output_type": "stream",
          "name": "stdout",
          "text": [
            "Mounted at /content/drive\n"
          ]
        }
      ]
    },
    {
      "cell_type": "code",
      "source": [
        "import struct\n",
        "import numpy as np\n",
        "\n",
        "def write_to_file(normalized, path):\n",
        "\n",
        "    normalized = normalized.astype(np.ushort)\n",
        "\n",
        "    with open(path, \"wb\") as outputfile:\n",
        "        number_of_images = normalized.shape[0]\n",
        "        dimensions = normalized.shape[1]\n",
        "        # Format for big endian integer\n",
        "        myfmt = '>i'\n",
        "\n",
        "        outputfile.write(struct.pack(myfmt, 2051)) # Write magic number\n",
        "\n",
        "        outputfile.write(struct.pack(myfmt, number_of_images)) # Write number of images\n",
        "\n",
        "        outputfile.write(struct.pack(myfmt, 1))# Write number of rows\n",
        "\n",
        "        outputfile.write(struct.pack(myfmt, dimensions)) # Write dimensions\n",
        "\n",
        "        myfmt = '<' + 'H' * dimensions # Format for little endian unsigned shorts\n",
        "\n",
        "        for i in range(number_of_images):\n",
        "            arr = normalized[i]\n",
        "            outputfile.write(struct.pack(myfmt, *arr))\n",
        "\n",
        "write_to_file(normalized_dataset, \"/content/drive/My Drive/new_input_file.dat\")\n",
        "write_to_file(normalized_query, \"/content/drive/My Drive/new_query_file.dat\")\n",
        "\n"
      ],
      "metadata": {
        "id": "J1B5ON3sdx9z"
      },
      "execution_count": 12,
      "outputs": []
    }
  ]
}